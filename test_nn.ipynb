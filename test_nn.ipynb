{
  "metadata": {
    "language_info": {
      "codemirror_mode": {
        "name": "python",
        "version": 3
      },
      "file_extension": ".py",
      "mimetype": "text/x-python",
      "name": "python",
      "nbconvert_exporter": "python",
      "pygments_lexer": "ipython3",
      "version": "3.8"
    },
    "kernelspec": {
      "name": "python",
      "display_name": "Pyolite",
      "language": "python"
    }
  },
  "nbformat_minor": 4,
  "nbformat": 4,
  "cells": [
    {
      "cell_type": "markdown",
      "source": "# Hello \n## Small Topic\nThis is my test file to test. ",
      "metadata": {}
    },
    {
      "cell_type": "markdown",
      "source": "## Import libaries:",
      "metadata": {}
    },
    {
      "cell_type": "code",
      "source": "from sklearn.neural_network import MLPClassifier\nfrom sklearn.datasets import load_digits\nfrom matplotlib import pyplot as plt\nimport random",
      "metadata": {
        "trusted": true
      },
      "execution_count": 40,
      "outputs": []
    },
    {
      "cell_type": "markdown",
      "source": "## Load Dataset:",
      "metadata": {}
    },
    {
      "cell_type": "code",
      "source": "x = load_digits().data\ny = load_digits().target\nm = y.size\nprint(\"Input shape: \", x.shape)\nprint(\"Output shape: \", y.shape)\n",
      "metadata": {
        "trusted": true
      },
      "execution_count": 41,
      "outputs": [
        {
          "name": "stdout",
          "text": "Input shape:  (1797, 64)\nOutput shape:  (1797,)\n",
          "output_type": "stream"
        }
      ]
    },
    {
      "cell_type": "markdown",
      "source": "## Build Model:",
      "metadata": {}
    },
    {
      "cell_type": "code",
      "source": "model = MLPClassifier(hidden_layer_sizes = (100,25), max_iter=300)\nmodel.fit(x,y)",
      "metadata": {
        "trusted": true
      },
      "execution_count": 42,
      "outputs": [
        {
          "execution_count": 42,
          "output_type": "execute_result",
          "data": {
            "text/plain": "MLPClassifier(hidden_layer_sizes=(100, 25), max_iter=300)"
          },
          "metadata": {}
        }
      ]
    },
    {
      "cell_type": "markdown",
      "source": "## Test Model:",
      "metadata": {}
    },
    {
      "cell_type": "code",
      "source": "i_test = random.randint(0, m)\nx_test = x[i_test, :].reshape(1, -1)\ny_test = y[i_test]\ny_hat = model.predict(x_test)\nimage = x_test.reshape(8, 8)\n\nplt.imshow(image, interpolation='nearest', cmap='gray')\nplt.show()\nprint(\"Accuracy: \", model.score(x, y), \"(high score because of testing on training set, not reliable but this is only a playproject)\")\nprint(\"Test number: \", i_test)\nprint(\"Predicted: \", y_hat[0], \", should be: \", y_test)\n\n",
      "metadata": {
        "trusted": true
      },
      "execution_count": 47,
      "outputs": [
        {
          "output_type": "display_data",
          "data": {
            "text/plain": "<pyolite.display.Image at 0x621fe18>",
            "image/png": "[encoded data removed]"
          },
          "metadata": {}
        },
        {
          "name": "stdout",
          "text": "Accuracy:  1.0 (high score because of testing on training set, not reliable but this is only a playproject)\nTest number:  396\nPredicted:  0 , should be:  0\n",
          "output_type": "stream"
        }
      ]
    },
    {
      "cell_type": "code",
      "source": "",
      "metadata": {},
      "execution_count": null,
      "outputs": []
    }
  ]
}